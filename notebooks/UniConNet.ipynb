{
 "cells": [
  {
   "cell_type": "code",
   "execution_count": 46,
   "metadata": {},
   "outputs": [
    {
     "name": "stdout",
     "output_type": "stream",
     "text": [
      "Using device: mps\n"
     ]
    }
   ],
   "source": [
    "import torch\n",
    "import torch.nn as nn\n",
    "from transformers import ViTModel, BertModel, Wav2Vec2Model\n",
    "\n",
    "device = torch.device(\"mps\" if torch.backends.mps.is_available() else \"cpu\")\n",
    "print(f\"Using device: {device}\")"
   ]
  },
  {
   "cell_type": "code",
   "execution_count": 47,
   "metadata": {},
   "outputs": [],
   "source": [
    "class UniConNet(nn.Module):\n",
    "    def __init__(self):\n",
    "        super(UniConNet, self).__init__()\n",
    "        self.image_encoder = ViTModel.from_pretrained(\"google/vit-base-patch16-224-in21k\")\n",
    "        self.text_encoder = BertModel.from_pretrained(\"bert-base-uncased\")\n",
    "        self.audio_encoder = Wav2Vec2Model.from_pretrained(\"facebook/wav2vec2-base-960h\")\n",
    "        self.gate = nn.Linear(768 * 3, 3)\n",
    "        self.fc = nn.Linear(768, 3)\n",
    "    \n",
    "    def forward(self, image, text_input_ids, text_attention_mask, audio_input_values):\n",
    "        img_features = self.image_encoder(pixel_values=image).last_hidden_state[:, 0]\n",
    "        text_features = self.text_encoder(input_ids=text_input_ids, attention_mask=text_attention_mask).last_hidden_state[:, 0]\n",
    "        audio_features = self.audio_encoder(input_values=audio_input_values).last_hidden_state[:, 0]\n",
    "        all_features = torch.cat([img_features, text_features, audio_features], dim=1)\n",
    "        gate_values = torch.softmax(self.gate(all_features), dim=-1)\n",
    "        fused_features = (gate_values[:, 0:1] * img_features + \n",
    "                          gate_values[:, 1:2] * text_features + \n",
    "                          gate_values[:, 2:3] * audio_features)\n",
    "        output = self.fc(fused_features)\n",
    "        return output\n"
   ]
  },
  {
   "cell_type": "code",
   "execution_count": 48,
   "metadata": {},
   "outputs": [],
   "source": [
    "dummy_image = torch.randn(1, 3, 224, 224)\n",
    "dummy_text_input_ids = torch.randint(0, 30522, (1, 32))\n",
    "dummy_text_attention_mask = torch.ones(1, 32)\n",
    "dummy_audio_input_values = torch.randn(1, 16000)\n"
   ]
  },
  {
   "cell_type": "code",
   "execution_count": 49,
   "metadata": {},
   "outputs": [
    {
     "name": "stderr",
     "output_type": "stream",
     "text": [
      "Some weights of Wav2Vec2Model were not initialized from the model checkpoint at facebook/wav2vec2-base-960h and are newly initialized: ['wav2vec2.masked_spec_embed']\n",
      "You should probably TRAIN this model on a down-stream task to be able to use it for predictions and inference.\n"
     ]
    }
   ],
   "source": [
    "model = UniConNet()\n",
    "\n",
    "onnx_model_path = \"../onnx_exports/UniConNet.onnx\""
   ]
  },
  {
   "cell_type": "code",
   "execution_count": null,
   "metadata": {},
   "outputs": [
    {
     "name": "stdout",
     "output_type": "stream",
     "text": [
      "Model has been exported to ../onnx_exports/UniConNet.onnx\n"
     ]
    }
   ],
   "source": [
    "model.eval()\n",
    "\n",
    "# Export the model\n",
    "torch.onnx.export(\n",
    "    model, \n",
    "    (dummy_image, dummy_text_input_ids, dummy_text_attention_mask, dummy_audio_input_values),  # Inputs to the model\n",
    "    onnx_model_path,  \n",
    "    input_names=['image', 'text_input_ids', 'text_attention_mask', 'audio_input_values'],  # Input names\n",
    "    output_names=['output'],  # Output name\n",
    "    dynamic_axes={\n",
    "        'image': {0: 'batch_size'},  # Batch size is dynamic for image input\n",
    "        'text_input_ids': {0: 'batch_size'},  # Batch size is dynamic for text input\n",
    "        'text_attention_mask': {0: 'batch_size'},  # Batch size is dynamic for text attention mask\n",
    "        'audio_input_values': {0: 'batch_size'},  # Batch size is dynamic for audio input\n",
    "        'output': {0: 'batch_size'}  # Batch size is dynamic for output\n",
    "    },\n",
    "    opset_version=14   \n",
    ")\n",
    "\n",
    "print(f\"Model has been exported to {onnx_model_path}\")"
   ]
  },
  {
   "cell_type": "code",
   "execution_count": null,
   "metadata": {},
   "outputs": [],
   "source": []
  }
 ],
 "metadata": {
  "kernelspec": {
   "display_name": ".venv",
   "language": "python",
   "name": "python3"
  },
  "language_info": {
   "codemirror_mode": {
    "name": "ipython",
    "version": 3
   },
   "file_extension": ".py",
   "mimetype": "text/x-python",
   "name": "python",
   "nbconvert_exporter": "python",
   "pygments_lexer": "ipython3",
   "version": "3.9.6"
  }
 },
 "nbformat": 4,
 "nbformat_minor": 2
}
